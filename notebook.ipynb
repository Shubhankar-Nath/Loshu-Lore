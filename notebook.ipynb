{
 "cells": [
  {
   "cell_type": "markdown",
   "metadata": {},
   "source": [
    "Loshu Grid: Automation Notebook\n",
    "=============\n",
    "## Usage Instruction\n",
    "To-DO\n",
    "\n",
    "## Folder Structure\n",
    "1. `assets` folder contains images for reproting\n",
    "1. `data` contains the databse and the text template to edit the report"
   ]
  },
  {
   "cell_type": "code",
   "execution_count": 66,
   "metadata": {},
   "outputs": [],
   "source": [
    "# Import Statements (Do not Edit the block of code below)\n",
    "\n",
    "import ipywidgets as widgets\n",
    "import IPython.display as display\n",
    "import datetime\n",
    "import fpdf\n",
    "\n",
    "LO_SHU_GRID = [[4,9,2],[3,5,7],[8,1,6]]"
   ]
  },
  {
   "cell_type": "code",
   "execution_count": 67,
   "metadata": {},
   "outputs": [
    {
     "data": {
      "application/vnd.jupyter.widget-view+json": {
       "model_id": "208ed26eadb442c08b2a133c79f50901",
       "version_major": 2,
       "version_minor": 0
      },
      "text/plain": [
       "DatePicker(value=None, description='Pick Your Date of Birth', step=1, style=DescriptionStyle(description_width…"
      ]
     },
     "metadata": {},
     "output_type": "display_data"
    },
    {
     "data": {
      "application/vnd.jupyter.widget-view+json": {
       "model_id": "e0ae456d5b914e58aa7f71e1f329b40d",
       "version_major": 2,
       "version_minor": 0
      },
      "text/plain": [
       "Text(value='', description='Your Name', placeholder='Type something', style=TextStyle(description_width='initi…"
      ]
     },
     "metadata": {},
     "output_type": "display_data"
    }
   ],
   "source": [
    "style = {'description_width': 'initial'}\n",
    "DOB = widgets.DatePicker(\n",
    "    description='Pick Your Date of Birth',\n",
    "    disabled=False,\n",
    "    style=style\n",
    ")\n",
    "NAME = widgets.Text(\n",
    "    placeholder='Type something',\n",
    "    description='Your Name',\n",
    "    disabled=False,\n",
    "    style=style\n",
    ")\n",
    "# Displaying the widgets\n",
    "display.display(DOB, NAME)"
   ]
  },
  {
   "cell_type": "code",
   "execution_count": 93,
   "metadata": {},
   "outputs": [],
   "source": [
    "class PDF_Utils:\n",
    "    WIDTH = 210\n",
    "    HEIGHT = 297\n",
    "    def generate_front_page(username, dob):\n",
    "        pdf = fpdf.FPDF()\n",
    "        pdf.add_page()\n",
    "        pdf.set_font(\"Arial\", size = 26)\n",
    "        pdf.ln(85)\n",
    "        pdf.write(5, \"Your Numerology Guide\")\n",
    "        pdf.set_font(\"Arial\", size = 12)\n",
    "        pdf.ln(15)\n",
    "        pdf.write(5, \"Report For: \" , username)\n",
    "        pdf.ln(10)\n",
    "        pdf.write(5, \"Date of Birth: \" , dob)\n",
    "        pdf.ln(10)\n",
    "        pdf.write(5, \"Report generated on: \" + str(datetime.datetime.now()))\n",
    "        return pdf\n",
    "\n",
    "    def add_page(pdf):\n",
    "        pdf.add_page()\n",
    "        #code to add a footer to the page\n",
    "        pdf.image(\"./assets/logo no text.jpg\", 0, 280, PDF_Utils.WIDTH)\n",
    "\n",
    "\n",
    "    def save_pdf(filename, pdf):\n",
    "        pdf.output(\n",
    "            name=filename+\".pdf\",\n",
    "            dest = 'F')"
   ]
  },
  {
   "cell_type": "code",
   "execution_count": 95,
   "metadata": {},
   "outputs": [
    {
     "ename": "KeyError",
     "evalue": "datetime.date(2010, 2, 12)",
     "output_type": "error",
     "traceback": [
      "\u001b[1;31m---------------------------------------------------------------------------\u001b[0m",
      "\u001b[1;31mKeyError\u001b[0m                                  Traceback (most recent call last)",
      "Cell \u001b[1;32mIn[95], line 4\u001b[0m\n\u001b[0;32m      2\u001b[0m pdf \u001b[38;5;241m=\u001b[39m PDF_Utils\u001b[38;5;241m.\u001b[39mgenerate_front_page(NAME\u001b[38;5;241m.\u001b[39mvalue, DOB\u001b[38;5;241m.\u001b[39mvalue)\n\u001b[0;32m      3\u001b[0m PDF_Utils\u001b[38;5;241m.\u001b[39madd_page(pdf)\n\u001b[1;32m----> 4\u001b[0m \u001b[43mPDF_Utils\u001b[49m\u001b[38;5;241;43m.\u001b[39;49m\u001b[43msave_pdf\u001b[49m\u001b[43m(\u001b[49m\u001b[38;5;124;43m\"\u001b[39;49m\u001b[38;5;124;43mreport.pdf\u001b[39;49m\u001b[38;5;124;43m\"\u001b[39;49m\u001b[43m,\u001b[49m\u001b[43mpdf\u001b[49m\u001b[43m)\u001b[49m\n",
      "Cell \u001b[1;32mIn[93], line 26\u001b[0m, in \u001b[0;36mPDF_Utils.save_pdf\u001b[1;34m(filename, pdf)\u001b[0m\n\u001b[0;32m     25\u001b[0m \u001b[38;5;28;01mdef\u001b[39;00m \u001b[38;5;21msave_pdf\u001b[39m(filename, pdf):\n\u001b[1;32m---> 26\u001b[0m     \u001b[43mpdf\u001b[49m\u001b[38;5;241;43m.\u001b[39;49m\u001b[43moutput\u001b[49m\u001b[43m(\u001b[49m\n\u001b[0;32m     27\u001b[0m \u001b[43m        \u001b[49m\u001b[43mname\u001b[49m\u001b[38;5;241;43m=\u001b[39;49m\u001b[43mfilename\u001b[49m\u001b[38;5;241;43m+\u001b[39;49m\u001b[38;5;124;43m\"\u001b[39;49m\u001b[38;5;124;43m.pdf\u001b[39;49m\u001b[38;5;124;43m\"\u001b[39;49m\u001b[43m,\u001b[49m\n\u001b[0;32m     28\u001b[0m \u001b[43m        \u001b[49m\u001b[43mdest\u001b[49m\u001b[43m \u001b[49m\u001b[38;5;241;43m=\u001b[39;49m\u001b[43m \u001b[49m\u001b[38;5;124;43m'\u001b[39;49m\u001b[38;5;124;43mF\u001b[39;49m\u001b[38;5;124;43m'\u001b[39;49m\u001b[43m)\u001b[49m\n",
      "File \u001b[1;32m~\\AppData\\Local\\Packages\\PythonSoftwareFoundation.Python.3.8_qbz5n2kfra8p0\\LocalCache\\local-packages\\Python38\\site-packages\\fpdf\\fpdf.py:1065\u001b[0m, in \u001b[0;36mFPDF.output\u001b[1;34m(self, name, dest)\u001b[0m\n\u001b[0;32m   1063\u001b[0m \u001b[38;5;66;03m#Finish document if necessary\u001b[39;00m\n\u001b[0;32m   1064\u001b[0m \u001b[38;5;28;01mif\u001b[39;00m(\u001b[38;5;28mself\u001b[39m\u001b[38;5;241m.\u001b[39mstate\u001b[38;5;241m<\u001b[39m\u001b[38;5;241m3\u001b[39m):\n\u001b[1;32m-> 1065\u001b[0m     \u001b[38;5;28;43mself\u001b[39;49m\u001b[38;5;241;43m.\u001b[39;49m\u001b[43mclose\u001b[49m\u001b[43m(\u001b[49m\u001b[43m)\u001b[49m\n\u001b[0;32m   1066\u001b[0m dest\u001b[38;5;241m=\u001b[39mdest\u001b[38;5;241m.\u001b[39mupper()\n\u001b[0;32m   1067\u001b[0m \u001b[38;5;28;01mif\u001b[39;00m(dest\u001b[38;5;241m==\u001b[39m\u001b[38;5;124m'\u001b[39m\u001b[38;5;124m'\u001b[39m):\n",
      "File \u001b[1;32m~\\AppData\\Local\\Packages\\PythonSoftwareFoundation.Python.3.8_qbz5n2kfra8p0\\LocalCache\\local-packages\\Python38\\site-packages\\fpdf\\fpdf.py:246\u001b[0m, in \u001b[0;36mFPDF.close\u001b[1;34m(self)\u001b[0m\n\u001b[0;32m    244\u001b[0m \u001b[38;5;28mself\u001b[39m\u001b[38;5;241m.\u001b[39m_endpage()\n\u001b[0;32m    245\u001b[0m \u001b[38;5;66;03m#close document\u001b[39;00m\n\u001b[1;32m--> 246\u001b[0m \u001b[38;5;28;43mself\u001b[39;49m\u001b[38;5;241;43m.\u001b[39;49m\u001b[43m_enddoc\u001b[49m\u001b[43m(\u001b[49m\u001b[43m)\u001b[49m\n",
      "File \u001b[1;32m~\\AppData\\Local\\Packages\\PythonSoftwareFoundation.Python.3.8_qbz5n2kfra8p0\\LocalCache\\local-packages\\Python38\\site-packages\\fpdf\\fpdf.py:1636\u001b[0m, in \u001b[0;36mFPDF._enddoc\u001b[1;34m(self)\u001b[0m\n\u001b[0;32m   1634\u001b[0m \u001b[38;5;28;01mdef\u001b[39;00m \u001b[38;5;21m_enddoc\u001b[39m(\u001b[38;5;28mself\u001b[39m):\n\u001b[0;32m   1635\u001b[0m     \u001b[38;5;28mself\u001b[39m\u001b[38;5;241m.\u001b[39m_putheader()\n\u001b[1;32m-> 1636\u001b[0m     \u001b[38;5;28;43mself\u001b[39;49m\u001b[38;5;241;43m.\u001b[39;49m\u001b[43m_putpages\u001b[49m\u001b[43m(\u001b[49m\u001b[43m)\u001b[49m\n\u001b[0;32m   1637\u001b[0m     \u001b[38;5;28mself\u001b[39m\u001b[38;5;241m.\u001b[39m_putresources()\n\u001b[0;32m   1638\u001b[0m     \u001b[38;5;66;03m#Info\u001b[39;00m\n",
      "File \u001b[1;32m~\\AppData\\Local\\Packages\\PythonSoftwareFoundation.Python.3.8_qbz5n2kfra8p0\\LocalCache\\local-packages\\Python38\\site-packages\\fpdf\\fpdf.py:1156\u001b[0m, in \u001b[0;36mFPDF._putpages\u001b[1;34m(self)\u001b[0m\n\u001b[0;32m   1154\u001b[0m     annots\u001b[38;5;241m+\u001b[39m\u001b[38;5;241m=\u001b[39m\u001b[38;5;124m'\u001b[39m\u001b[38;5;124m/A <</S /URI /URI \u001b[39m\u001b[38;5;124m'\u001b[39m\u001b[38;5;241m+\u001b[39m\u001b[38;5;28mself\u001b[39m\u001b[38;5;241m.\u001b[39m_textstring(pl[\u001b[38;5;241m4\u001b[39m])\u001b[38;5;241m+\u001b[39m\u001b[38;5;124m'\u001b[39m\u001b[38;5;124m>>>>\u001b[39m\u001b[38;5;124m'\u001b[39m\n\u001b[0;32m   1155\u001b[0m \u001b[38;5;28;01melse\u001b[39;00m:\n\u001b[1;32m-> 1156\u001b[0m     l\u001b[38;5;241m=\u001b[39m\u001b[38;5;28;43mself\u001b[39;49m\u001b[38;5;241;43m.\u001b[39;49m\u001b[43mlinks\u001b[49m\u001b[43m[\u001b[49m\u001b[43mpl\u001b[49m\u001b[43m[\u001b[49m\u001b[38;5;241;43m4\u001b[39;49m\u001b[43m]\u001b[49m\u001b[43m]\u001b[49m\n\u001b[0;32m   1157\u001b[0m     \u001b[38;5;28;01mif\u001b[39;00m l[\u001b[38;5;241m0\u001b[39m] \u001b[38;5;129;01min\u001b[39;00m \u001b[38;5;28mself\u001b[39m\u001b[38;5;241m.\u001b[39morientation_changes:\n\u001b[0;32m   1158\u001b[0m         h\u001b[38;5;241m=\u001b[39mw_pt\n",
      "\u001b[1;31mKeyError\u001b[0m: datetime.date(2010, 2, 12)"
     ]
    }
   ],
   "source": [
    "\n",
    "#print(ns.HEIGHT)\n",
    "pdf = PDF_Utils.generate_front_page(NAME.value, DOB.value)\n",
    "PDF_Utils.add_page(pdf)\n",
    "PDF_Utils.save_pdf(\"report.pdf\",pdf)"
   ]
  },
  {
   "cell_type": "code",
   "execution_count": null,
   "metadata": {},
   "outputs": [],
   "source": []
  }
 ],
 "metadata": {
  "kernelspec": {
   "display_name": "Python 3",
   "language": "python",
   "name": "python3"
  },
  "language_info": {
   "codemirror_mode": {
    "name": "ipython",
    "version": 3
   },
   "file_extension": ".py",
   "mimetype": "text/x-python",
   "name": "python",
   "nbconvert_exporter": "python",
   "pygments_lexer": "ipython3",
   "version": "3.8.10"
  }
 },
 "nbformat": 4,
 "nbformat_minor": 2
}
