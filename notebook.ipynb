{
 "cells": [
  {
   "cell_type": "markdown",
   "metadata": {},
   "source": [
    "Loshu Grid: Automation Notebook\n",
    "=============\n",
    "## Usage Instruction\n",
    "To-DO\n",
    "\n",
    "## Folder Structure\n",
    "1. `assets` folder contains images for reproting\n",
    "1. `data` contains the databse and the text template to edit the report"
   ]
  },
  {
   "cell_type": "code",
   "execution_count": 1,
   "metadata": {},
   "outputs": [],
   "source": [
    "# Import Statements (Do not Edit the block of code below)\n",
    "\n",
    "from notebookscripts import PDF_Utils\n",
    "import ipywidgets as widgets\n",
    "import IPython.display as display\n",
    "import datetime\n",
    "import fpdf\n",
    "\n",
    "LO_SHU_GRID = [[4,9,2],[3,5,7],[8,1,6]]"
   ]
  },
  {
   "cell_type": "code",
   "execution_count": 2,
   "metadata": {},
   "outputs": [
    {
     "data": {
      "application/vnd.jupyter.widget-view+json": {
       "model_id": "0639936f76144ed0956164ac5dac7f67",
       "version_major": 2,
       "version_minor": 0
      },
      "text/plain": [
       "DatePicker(value=None, description='Pick Your Date of Birth', step=1, style=DescriptionStyle(description_width…"
      ]
     },
     "metadata": {},
     "output_type": "display_data"
    },
    {
     "data": {
      "application/vnd.jupyter.widget-view+json": {
       "model_id": "34391e8a19be4aa09c7e7e6ae19ccfd4",
       "version_major": 2,
       "version_minor": 0
      },
      "text/plain": [
       "Text(value='', description='Your Name', placeholder='Type something', style=TextStyle(description_width='initi…"
      ]
     },
     "metadata": {},
     "output_type": "display_data"
    }
   ],
   "source": [
    "style = {'description_width': 'initial'}\n",
    "DOB = widgets.DatePicker(\n",
    "    description='Pick Your Date of Birth',\n",
    "    disabled=False,\n",
    "    style=style\n",
    ")\n",
    "NAME = widgets.Text(\n",
    "    placeholder='Type something',\n",
    "    description='Your Name',\n",
    "    disabled=False,\n",
    "    style=style\n",
    ")\n",
    "# Displaying the widgets\n",
    "display.display(DOB, NAME)"
   ]
  },
  {
   "cell_type": "code",
   "execution_count": 7,
   "metadata": {},
   "outputs": [
    {
     "name": "stdout",
     "output_type": "stream",
     "text": [
      "PDF Utils Loaded\n"
     ]
    }
   ],
   "source": [
    "# Code to generate a PDF\n",
    "pf=PDF_Utils.generate_front_page(NAME.value, str(DOB.value))\n",
    "PDF_Utils.add_page(pf)\n",
    "PDF_Utils.save_pdf(NAME.value, pf)"
   ]
  }
 ],
 "metadata": {
  "kernelspec": {
   "display_name": "Python 3",
   "language": "python",
   "name": "python3"
  },
  "language_info": {
   "codemirror_mode": {
    "name": "ipython",
    "version": 3
   },
   "file_extension": ".py",
   "mimetype": "text/x-python",
   "name": "python",
   "nbconvert_exporter": "python",
   "pygments_lexer": "ipython3",
   "version": "3.8.10"
  }
 },
 "nbformat": 4,
 "nbformat_minor": 2
}
